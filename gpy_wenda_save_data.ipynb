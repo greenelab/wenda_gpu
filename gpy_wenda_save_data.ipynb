{
 "cells": [
  {
   "cell_type": "code",
   "execution_count": 1,
   "metadata": {},
   "outputs": [],
   "source": [
    "import os\n",
    "import pandas as pd\n",
    "import GPy\n",
    "import numpy as np\n",
    "from IPython.display import display\n",
    "from scipy.stats import norm"
   ]
  },
  {
   "cell_type": "code",
   "execution_count": 2,
   "metadata": {},
   "outputs": [],
   "source": [
    "# Load data to train model on\n",
    "\n",
    "source_table = pd.read_csv(\"source_data.csv\", sep=\" \")\n",
    "source_matrix = np.asfortranarray(source_table.values.T)\n",
    "\n",
    "# Normalize data\n",
    "\n",
    "epsilon = 1e-6\n",
    "means = np.mean(source_matrix, axis=0)\n",
    "stds = np.std(source_matrix, axis=0) + epsilon\n",
    "\n",
    "normed = (source_matrix - means) / stds\n",
    "normed_source_matrix = normed\n",
    "\n",
    "# Set parameters and make output dir\n",
    "\n",
    "gene_number = 2\n",
    "\n",
    "feature_model_format = 'model_{0:05d}'\n",
    "output_dir = os.path.join(\"gpy_feature_models\", feature_model_format.format(gene_number))\n",
    "if os.path.exists(output_dir) is False:\n",
    "    os.mkdir(output_dir)\n",
    "\n",
    "input_dim = source_table.shape[0]-1\n",
    "    \n",
    "# Split out feature to predict using all other features\n",
    "\n",
    "is_i = np.in1d(np.arange(normed_source_matrix.shape[1]), gene_number)\n",
    "data_x_train = normed_source_matrix[:, ~is_i]\n",
    "data_y_train = normed_source_matrix[:, is_i]"
   ]
  },
  {
   "cell_type": "code",
   "execution_count": 3,
   "metadata": {},
   "outputs": [],
   "source": [
    "kernel = GPy.kern.Linear(input_dim=input_dim)\n",
    "model = GPy.models.GPRegression(data_x_train, data_y_train, kernel=kernel.copy())"
   ]
  },
  {
   "cell_type": "code",
   "execution_count": null,
   "metadata": {},
   "outputs": [],
   "source": [
    "# Fit model\n",
    "\n",
    "model.optimize()"
   ]
  },
  {
   "cell_type": "code",
   "execution_count": null,
   "metadata": {},
   "outputs": [],
   "source": [
    "np.savetxt(os.path.join(output_dir, \"param_array.txt\"),  model.param_array)"
   ]
  },
  {
   "cell_type": "code",
   "execution_count": null,
   "metadata": {},
   "outputs": [],
   "source": [
    "display(model)"
   ]
  },
  {
   "cell_type": "code",
   "execution_count": null,
   "metadata": {},
   "outputs": [],
   "source": [
    "# Load target data\n",
    "target_table = pd.read_csv(\"target_data.csv\", sep = \" \")\n",
    "target_matrix = np.asfortranarray(target_table.values.T)\n",
    "\n",
    "# Normalize data\n",
    "\n",
    "epsilon = 1e-6\n",
    "\n",
    "\"\"\"\n",
    "NB: It's important to use means/stds from the training data, since that's how the\n",
    "training data was normalized.\n",
    "\"\"\"\n",
    "\n",
    "# means = np.mean(target_matrix, axis=0)\n",
    "# stds = np.std(target_matrix, axis=0) + epsilon\n",
    "\n",
    "normed = (target_matrix - means) / stds\n",
    "normed_target_matrix = normed\n",
    "\n",
    "# Split feature out of target data\n",
    "\n",
    "is_feature = np.in1d(np.arange(normed_target_matrix.shape[1]), gene_number)\n",
    "data_x_test = normed_target_matrix[:, ~is_feature]\n",
    "data_y_test = normed_target_matrix[:, is_feature]"
   ]
  },
  {
   "cell_type": "code",
   "execution_count": null,
   "metadata": {},
   "outputs": [],
   "source": [
    "# Save data used by GPy to a file to use in gpytorch_wenda_gpy_data.ipynb\n",
    "import torch\n",
    "\n",
    "torch.save(\n",
    "    [\n",
    "        torch.from_numpy(data_x_train),\n",
    "        torch.from_numpy(data_y_train).squeeze(-1),\n",
    "        torch.from_numpy(data_x_test),\n",
    "        torch.from_numpy(data_y_test).squeeze(-1)\n",
    "    ],\n",
    "    'gpy_data.pth'\n",
    ")"
   ]
  },
  {
   "cell_type": "code",
   "execution_count": null,
   "metadata": {},
   "outputs": [],
   "source": [
    "# Calculate confidence score using target data\n",
    "mu, sigma_sq = model.predict(data_x_test)\n",
    "res_normed = (data_y_test - mu) / np.sqrt(sigma_sq)\n",
    "confidences = (1 - abs(norm.cdf(res_normed) - norm.cdf(-res_normed)))"
   ]
  },
  {
   "cell_type": "code",
   "execution_count": null,
   "metadata": {},
   "outputs": [],
   "source": [
    "np.savetxt(os.path.join(output_dir, \"confidences.txt\"), confidences, fmt='%.10f')\n",
    "np.savetxt(os.path.join(output_dir, \"predicted_means.txt\"), mu, fmt='%.5f')\n",
    "np.savetxt(os.path.join(output_dir, \"predicted_variances.txt\"), sigma_sq)"
   ]
  },
  {
   "cell_type": "code",
   "execution_count": null,
   "metadata": {},
   "outputs": [],
   "source": []
  }
 ],
 "metadata": {
  "kernelspec": {
   "display_name": "Python 3",
   "language": "python",
   "name": "python3"
  },
  "language_info": {
   "codemirror_mode": {
    "name": "ipython",
    "version": 3
   },
   "file_extension": ".py",
   "mimetype": "text/x-python",
   "name": "python",
   "nbconvert_exporter": "python",
   "pygments_lexer": "ipython3",
   "version": "3.8.5"
  }
 },
 "nbformat": 4,
 "nbformat_minor": 5
}
