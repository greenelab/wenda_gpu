{
 "cells": [
  {
   "cell_type": "code",
   "execution_count": 1,
   "id": "c5d8f6b2",
   "metadata": {},
   "outputs": [],
   "source": [
    "import os\n",
    "import pandas as pd\n",
    "import numpy as np\n",
    "import GPy\n",
    "from IPython.display import display\n",
    "from scipy.stats import norm"
   ]
  },
  {
   "cell_type": "code",
   "execution_count": 2,
   "id": "cd542034",
   "metadata": {},
   "outputs": [],
   "source": [
    "# Load data to train model on\n",
    "\n",
    "source_table = pd.read_csv(\"source_data.csv\", sep=\" \")\n",
    "source_matrix = np.asfortranarray(source_table.values.T) \n",
    "#Note: This was originally source_table.as_matrix().T but that function is now deprecated "
   ]
  },
  {
   "cell_type": "code",
   "execution_count": 3,
   "id": "8c0336e9",
   "metadata": {},
   "outputs": [],
   "source": [
    "# Normalize data\n",
    "\n",
    "epsilon = 1e-6\n",
    "means = np.mean(source_matrix, axis=0)\n",
    "stds = np.std(source_matrix, axis=0) + epsilon\n",
    "\n",
    "normed = (source_matrix - means) / stds\n",
    "normed_source_matrix = normed"
   ]
  },
  {
   "cell_type": "code",
   "execution_count": 4,
   "id": "2215ef82",
   "metadata": {},
   "outputs": [],
   "source": [
    "# Set parameters and make output dir\n",
    "\n",
    "gene_number = 1\n",
    "\n",
    "feature_model_format = 'model_{0:05d}'\n",
    "output_dir = os.path.join(\"gpy_feature_models\", feature_model_format.format(gene_number))\n",
    "if os.path.exists(output_dir) is False:\n",
    "    os.mkdir(output_dir)"
   ]
  },
  {
   "cell_type": "code",
   "execution_count": 5,
   "id": "8a96e982",
   "metadata": {},
   "outputs": [],
   "source": [
    "kernel = GPy.kern.Linear(input_dim=source_table.shape[0]-1)"
   ]
  },
  {
   "cell_type": "code",
   "execution_count": 6,
   "id": "e0659c79",
   "metadata": {},
   "outputs": [],
   "source": [
    "# Split out feature to predict using all other features\n",
    "\n",
    "is_i = np.in1d(np.arange(normed_source_matrix.shape[1]), gene_number)\n",
    "data_x_train = normed_source_matrix[:, ~is_i]\n",
    "data_y_train = normed_source_matrix[:, is_i]"
   ]
  },
  {
   "cell_type": "code",
   "execution_count": 7,
   "id": "04186308",
   "metadata": {},
   "outputs": [
    {
     "data": {
      "text/plain": [
       "<paramz.optimization.optimization.opt_lbfgsb at 0x7f911ef3ae50>"
      ]
     },
     "execution_count": 7,
     "metadata": {},
     "output_type": "execute_result"
    }
   ],
   "source": [
    "# Fit model\n",
    "\n",
    "model = GPy.models.GPRegression(data_x_train, data_y_train, kernel=kernel.copy())\n",
    "model.optimize()"
   ]
  },
  {
   "cell_type": "code",
   "execution_count": 8,
   "id": "2a665c4b",
   "metadata": {},
   "outputs": [],
   "source": [
    "np.savetxt(os.path.join(output_dir, \"param_array.txt\"),  model.param_array)"
   ]
  },
  {
   "cell_type": "code",
   "execution_count": 9,
   "id": "ec44e7cf",
   "metadata": {},
   "outputs": [
    {
     "data": {
      "text/html": [
       "<style type=\"text/css\">\n",
       ".pd{\n",
       "    font-family: \"Courier New\", Courier, monospace !important;\n",
       "    width: 100%;\n",
       "    padding: 3px;\n",
       "}\n",
       "</style>\n",
       "\n",
       "<p class=pd>\n",
       "<b>Model</b>: GP regression<br>\n",
       "<b>Objective</b>: 1028.1928368306399<br>\n",
       "<b>Number of Parameters</b>: 2<br>\n",
       "<b>Number of Optimization Parameters</b>: 2<br>\n",
       "<b>Updates</b>: True<br>\n",
       "</p>\n",
       "<style type=\"text/css\">\n",
       ".tg  {font-family:\"Courier New\", Courier, monospace !important;padding:2px 3px;word-break:normal;border-collapse:collapse;border-spacing:0;border-color:#DCDCDC;margin:0px auto;width:100%;}\n",
       ".tg td{font-family:\"Courier New\", Courier, monospace !important;font-weight:bold;color:#444;background-color:#F7FDFA;border-style:solid;border-width:1px;overflow:hidden;word-break:normal;border-color:#DCDCDC;}\n",
       ".tg th{font-family:\"Courier New\", Courier, monospace !important;font-weight:normal;color:#fff;background-color:#26ADE4;border-style:solid;border-width:1px;overflow:hidden;word-break:normal;border-color:#DCDCDC;}\n",
       ".tg .tg-left{font-family:\"Courier New\", Courier, monospace !important;font-weight:normal;text-align:left;}\n",
       ".tg .tg-center{font-family:\"Courier New\", Courier, monospace !important;font-weight:normal;text-align:center;}\n",
       ".tg .tg-right{font-family:\"Courier New\", Courier, monospace !important;font-weight:normal;text-align:right;}\n",
       "</style>\n",
       "<table class=\"tg\"><tr><th><b>  GP_regression.         </b></th><th><b>                 value</b></th><th><b>constraints</b></th><th><b>priors</b></th></tr>\n",
       "<tr><td class=tg-left>  linear.variances       </td><td class=tg-right>3.5017048185725396e-05</td><td class=tg-center>    +ve    </td><td class=tg-center>      </td></tr>\n",
       "<tr><td class=tg-left>  Gaussian_noise.variance</td><td class=tg-right>  0.035930132139688854</td><td class=tg-center>    +ve    </td><td class=tg-center>      </td></tr>\n",
       "</table>"
      ],
      "text/plain": [
       "<GPy.models.gp_regression.GPRegression at 0x7f911ef21dd0>"
      ]
     },
     "metadata": {},
     "output_type": "display_data"
    }
   ],
   "source": [
    "display(model)"
   ]
  },
  {
   "cell_type": "code",
   "execution_count": 10,
   "id": "cd33f082",
   "metadata": {},
   "outputs": [],
   "source": [
    "# Load target data\n",
    "target_table = pd.read_csv(\"target_data.csv\", sep = \" \")\n",
    "target_matrix = np.asfortranarray(target_table.values.T)"
   ]
  },
  {
   "cell_type": "code",
   "execution_count": 11,
   "id": "6c9cdc55",
   "metadata": {},
   "outputs": [],
   "source": [
    "# Normalize data\n",
    "\n",
    "epsilon = 1e-6\n",
    "means = np.mean(target_matrix, axis=0)\n",
    "stds = np.std(target_matrix, axis=0) + epsilon\n",
    "\n",
    "normed = (target_matrix - means) / stds\n",
    "normed_target_matrix = normed"
   ]
  },
  {
   "cell_type": "code",
   "execution_count": 12,
   "id": "c238736c",
   "metadata": {},
   "outputs": [],
   "source": [
    "# Split feature out of target data\n",
    "\n",
    "is_feature = np.in1d(np.arange(normed_target_matrix.shape[1]), gene_number)\n",
    "data_x_test = normed_source_matrix[:, ~is_feature]\n",
    "data_y_test = normed_source_matrix[:, is_feature]"
   ]
  },
  {
   "cell_type": "code",
   "execution_count": 13,
   "id": "5c55ee17",
   "metadata": {},
   "outputs": [],
   "source": [
    "# Calculate confidence score using target data\n",
    "mu, sigma_sq = model.predict(data_x_test)\n",
    "res_normed = (data_y_test - mu) / np.sqrt(sigma_sq)\n",
    "confidences = (1 - abs(norm.cdf(res_normed) - norm.cdf(-res_normed)))"
   ]
  },
  {
   "cell_type": "code",
   "execution_count": 14,
   "id": "ed0645a3",
   "metadata": {},
   "outputs": [],
   "source": [
    "np.savetxt(os.path.join(output_dir, \"confidences.txt\"), confidences, fmt='%.10f')\n",
    "np.savetxt(os.path.join(output_dir, \"predicted_means.txt\"), mu, fmt='%.5f')\n",
    "np.savetxt(os.path.join(output_dir, \"predicted_variances.txt\"), sigma_sq)"
   ]
  }
 ],
 "metadata": {
  "kernelspec": {
   "display_name": "Python 3",
   "language": "python",
   "name": "python3"
  },
  "language_info": {
   "codemirror_mode": {
    "name": "ipython",
    "version": 3
   },
   "file_extension": ".py",
   "mimetype": "text/x-python",
   "name": "python",
   "nbconvert_exporter": "python",
   "pygments_lexer": "ipython3",
   "version": "3.7.10"
  }
 },
 "nbformat": 4,
 "nbformat_minor": 5
}
